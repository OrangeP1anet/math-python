{
  "nbformat": 4,
  "nbformat_minor": 0,
  "metadata": {
    "colab": {
      "name": "lesson3-2.ipynb",
      "provenance": [],
      "collapsed_sections": [],
      "authorship_tag": "ABX9TyNdsuj5mH6cuE9IPcRhtEu2",
      "include_colab_link": true
    },
    "kernelspec": {
      "name": "python3",
      "display_name": "Python 3"
    },
    "language_info": {
      "name": "python"
    }
  },
  "cells": [
    {
      "cell_type": "markdown",
      "metadata": {
        "id": "view-in-github",
        "colab_type": "text"
      },
      "source": [
        "<a href=\"https://colab.research.google.com/github/OrangeP1anet/math-python/blob/main/lesson3_2.ipynb\" target=\"_parent\"><img src=\"https://colab.research.google.com/assets/colab-badge.svg\" alt=\"Open In Colab\"/></a>"
      ]
    },
    {
      "cell_type": "markdown",
      "source": [
        "## 一次不定方程式を解こう！\n",
        "\n",
        "---\n",
        "\n",
        "式は\n",
        "\n",
        "> ax + by = 1\n",
        "\n",
        "とし、(a,b) を入力とする。"
      ],
      "metadata": {
        "id": "RK0ZDL9xRexF"
      }
    },
    {
      "cell_type": "markdown",
      "source": [
        "## Installation\n",
        "\n",
        "---\n",
        "\n",
        "\n",
        "```\n",
        "import sympy as sp\n",
        "```"
      ],
      "metadata": {
        "id": "MfpIoJrY0pft"
      }
    },
    {
      "cell_type": "code",
      "source": [
        "import sympy as sp\n",
        "\n",
        "print(\"一次不定方程式 ax + by = 1 を解くプログラム\")\n",
        "a = int(input(\"Enter a: \"))\n",
        "b = int(input(\"Enter b: \"))\n",
        "\n",
        "# 結果を出力\n",
        "print(sp.gcdex(a, b))"
      ],
      "metadata": {
        "id": "44BiFjhCG16-",
        "outputId": "2717fb2b-8624-4333-e7df-1c5e6a928514",
        "colab": {
          "base_uri": "https://localhost:8080/"
        }
      },
      "execution_count": null,
      "outputs": [
        {
          "output_type": "stream",
          "name": "stdout",
          "text": [
            "一次不定方程式 ax + by = 1 を解くプログラム\n",
            "Enter a: 120\n",
            "Enter b: 77\n",
            "(-34, 53, 1)\n"
          ]
        }
      ]
    },
    {
      "cell_type": "code",
      "execution_count": null,
      "metadata": {
        "colab": {
          "base_uri": "https://localhost:8080/"
        },
        "id": "LqFikYvnQzO7",
        "outputId": "e31b8f47-8328-488f-bd4c-5d9ba9211927"
      },
      "outputs": [
        {
          "output_type": "stream",
          "name": "stdout",
          "text": [
            "一次不定方程式 ax + by = 1　を解くプログラム\n",
            "a=120\n",
            "b=77\n",
            "ユークリッドの互除法\n",
            "( 0 ) 120 = 77 * 1 + 43\n",
            "( 1 ) 77 = 43 * 1 + 34\n",
            "( 2 ) 43 = 34 * 1 + 9\n",
            "( 3 ) 34 = 9 * 3 + 7\n",
            "( 4 ) 9 = 7 * 1 + 2\n",
            "( 5 ) 7 = 2 * 3 + 1\n",
            "( 6 ) 2 = 1 * 2 + 0\n",
            "\n",
            "最大公約数は 1\n",
            "\n",
            "一次不定方程式を解く\n",
            "( 5 ) 1 = ( 1 ) * 7 + ( -3 ) * 2\n",
            "( 4 )   = ( -3 ) * 9 + ( 4 ) * 7\n",
            "( 3 )   = ( 4 ) * 34 + ( -15 ) * 9\n",
            "( 2 )   = ( -15 ) * 43 + ( 19 ) * 34\n",
            "( 1 )   = ( 19 ) * 77 + ( -34 ) * 43\n",
            "( 0 )   = ( -34 ) * 120 + ( 53 ) * 77\n",
            "120 x 77 y = 1 の解は\n",
            "特殊解　x0 = -34  y0 = 53\n",
            "x =  -34 + 77  *t\n",
            "x =  53 - 120  *t\n"
          ]
        }
      ],
      "source": [
        "print(\"一次不定方程式 ax + by = 1 を解くプログラム\")\n",
        "\n",
        "# 途中経過を入れる配列\n",
        "a = [] # 割られる数\n",
        "b = [] # 割る数\n",
        "q = [] # 商\n",
        "r = [] # 余り\n",
        "kx = [] # xの係数\n",
        "ky = [] # yの係数\n",
        "\n",
        "i = 0 # リストの先頭に位置する\n",
        "j = 0 # リストの先頭に位置する\n",
        "\n",
        "a.append(int(input(\"a=\")))\n",
        "b.append(int(input(\"b=\")))\n",
        "\n",
        "print(\"ユークリッドの互除法\")\n",
        "q.append(a[i] // b[i]) # 商をリストの先頭に追加\n",
        "r.append(a[i] % b[i])  # 余りをリストの先頭に追加\n",
        "print(\"(\",i,\")\", a[i], \"=\", b[i], \"*\", q[i], \"+\", r[i])\n",
        "\n",
        "# 余りが0になるまで割る\n",
        "while r[i] != 0:\n",
        "  a.append(b[i]) # 割られる数を割る数にする\n",
        "  b.append(r[i]) # 割る数をあまりにする\n",
        "  i += 1         # リストの位置を一つ更新\n",
        "  q.append(a[i] // b[i])\n",
        "  r.append(a[i] % b[i])\n",
        "  print(\"(\",i,\")\", a[i], \"=\", b[i], \"*\", q[i], \"+\", r[i])\n",
        "\n",
        "print()\n",
        "print(\"最大公約数は\", b[i])\n",
        "\n",
        "print()\n",
        "print(\"一次不定方程式を解く\")\n",
        "\n",
        "i -= 1\n",
        "kx.append(1)\n",
        "ky.append(-q[i])\n",
        "print(\"(\",i,\")\", \"1 =\",  \"(\",kx[j],\")\",  \"*\", a[i], \"+\", \"(\",ky[j],\")\", \"*\", b[i])\n",
        "\n",
        "# 0行目まで繰り返す\n",
        "while i != 0:\n",
        "  i -= 1 # 一行下へ\n",
        "  kx.append(ky[j])\n",
        "  ky.append(kx[j] + (q[i])*(-ky[j]))\n",
        "  j += 1 # リストの位置を一つ更新\n",
        "  print(\"(\",i,\")\", \"  =\",  \"(\",kx[j],\")\",  \"*\", a[i], \"+\", \"(\",ky[j],\")\", \"*\", b[i])\n",
        "\n",
        "# 結果を出力\n",
        "print(a[i], \"x\", b[i], \"y = 1 の解は\")\n",
        "print(\"特殊解 x0 =\", kx[j], \" y0 =\", ky[j])\n",
        "print(\"x = \", kx[j], \"+\", b[i], \" *t\")\n",
        "print(\"x = \", ky[j], \"-\", a[i], \" *t\")"
      ]
    }
  ]
}