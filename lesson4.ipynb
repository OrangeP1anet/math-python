{
  "nbformat": 4,
  "nbformat_minor": 0,
  "metadata": {
    "colab": {
      "name": "lesson4.ipynb",
      "provenance": [],
      "collapsed_sections": [],
      "include_colab_link": true
    },
    "kernelspec": {
      "name": "python3",
      "display_name": "Python 3"
    },
    "language_info": {
      "name": "python"
    }
  },
  "cells": [
    {
      "cell_type": "markdown",
      "metadata": {
        "id": "view-in-github",
        "colab_type": "text"
      },
      "source": [
        "<a href=\"https://colab.research.google.com/github/OrangeP1anet/math-python/blob/main/lesson4.ipynb\" target=\"_parent\"><img src=\"https://colab.research.google.com/assets/colab-badge.svg\" alt=\"Open In Colab\"/></a>"
      ]
    },
    {
      "cell_type": "markdown",
      "source": [
        "## 一次合同方程式を解くプログラム\n",
        "\n",
        "---\n",
        "\n",
        "\n",
        "> ax ≡ 1(modn)　を解く"
      ],
      "metadata": {
        "id": "JKaOqGmL19FS"
      }
    },
    {
      "cell_type": "markdown",
      "source": [
        "## Installation\n",
        "\n",
        "---\n",
        "\n",
        "\n",
        "```\n",
        "import sympy as sp\n",
        "```"
      ],
      "metadata": {
        "id": "lOcibszQ0ZXL"
      }
    },
    {
      "cell_type": "code",
      "source": [
        "import sympy as sp\n",
        "\n",
        "print(\"一次合同方程式 ax ≡ 1(modn) を解くプログラム\")\n",
        "a = int(input(\"Enter a: \"))\n",
        "N = int(input(\"Enter N: \"))\n",
        "\n",
        "#一次不定方程式を解く gcdex関数を使う。[]で返り値の指定。\n",
        "kx = sp.gcdex(a, N)[0]\n",
        "ky = sp.gcdex(a, N)[1]\n",
        "\n",
        "# 結果を出力\n",
        "print(a, \"x ≡ 1\", \"(mod\", N , \")\", \"の解は\")\n",
        "print(\"x ≡\", kx, \"(y ≡\", ky, \")\", \"(mod\", N , \")\")"
      ],
      "metadata": {
        "id": "uJ7wMMp4TfLM",
        "outputId": "0c974659-3a8e-47cf-a1be-b1533e506e85",
        "colab": {
          "base_uri": "https://localhost:8080/"
        }
      },
      "execution_count": null,
      "outputs": [
        {
          "output_type": "stream",
          "name": "stdout",
          "text": [
            "一次合同方程式 ax ≡ 1(modn) を解くプログラム\n",
            "Enter a: 7\n",
            "Enter N: 24\n",
            "7 x ≡ 1 (mod 24 ) の解は\n",
            "x ≡ 7 (y ≡ -2 ) (mod 24 )\n"
          ]
        }
      ]
    },
    {
      "cell_type": "markdown",
      "source": [
        "## sympy無しバージョン"
      ],
      "metadata": {
        "id": "DdhXYwI-8h0a"
      }
    },
    {
      "cell_type": "code",
      "execution_count": null,
      "metadata": {
        "colab": {
          "base_uri": "https://localhost:8080/"
        },
        "id": "fxVYNsJt16Fv",
        "outputId": "4a514b20-7aa7-4493-c6b9-6c05e071279e"
      },
      "outputs": [
        {
          "output_type": "stream",
          "name": "stdout",
          "text": [
            "一次合同方程式 ax ≡ 1(modn) を解くプログラム\n",
            "a=7\n",
            "mod=24\n",
            "ユークリッドの互除法\n",
            "( 0 ) 7 = 24 * 0 + 7\n",
            "( 1 ) 24 = 7 * 3 + 3\n",
            "( 2 ) 7 = 3 * 2 + 1\n",
            "( 3 ) 3 = 1 * 3 + 0\n",
            "\n",
            "最大公約数は 1\n",
            "\n",
            "一次不定方程式を解く\n",
            "( 2 ) 1 = ( 1 ) * 7 + ( -2 ) * 3\n",
            "( 1 )   = ( -2 ) * 24 + ( 7 ) * 7\n",
            "( 0 )   = ( 7 ) * 7 + ( -2 ) * 24\n",
            "\n",
            "7 x ≡ 1 (mod 24 ) の解は\n",
            "x ≡ 7 (y ≡ -2 ) (mod 24 )\n",
            "\n",
            "検算 7 * 7 % 24 = 1\n"
          ]
        }
      ],
      "source": [
        "print(\"一次合同方程式 ax ≡ 1(modn) を解くプログラム\")\n",
        "\n",
        "# 途中経過を入れる配列\n",
        "a = [] # 割られる数\n",
        "b = [] # 割る数\n",
        "q = [] # 商\n",
        "r = [] # 余り\n",
        "kx = [] # xの係数\n",
        "ky = [] # yの係数\n",
        "\n",
        "i = 0 # リストの先頭に位置する\n",
        "j = 0 # リストの先頭に位置する\n",
        "\n",
        "a.append(int(input(\"a=\")))\n",
        "b.append(int(input(\"mod=\")))\n",
        "\n",
        "print(\"ユークリッドの互除法\")\n",
        "q.append(a[i] // b[i]) # 商をリストの先頭に追加\n",
        "r.append(a[i] % b[i])  # 余りをリストの先頭に追加\n",
        "print(\"(\",i,\")\", a[i], \"=\", b[i], \"*\", q[i], \"+\", r[i])\n",
        "\n",
        "# 余りが0になるまで割る\n",
        "while r[i] != 0:\n",
        "  a.append(b[i]) # 割られる数を割る数にする\n",
        "  b.append(r[i]) # 割る数をあまりにする\n",
        "  i += 1         # リストの位置を一つ更新\n",
        "  q.append(a[i] // b[i])\n",
        "  r.append(a[i] % b[i])\n",
        "  print(\"(\",i,\")\", a[i], \"=\", b[i], \"*\", q[i], \"+\", r[i])\n",
        "\n",
        "print()\n",
        "print(\"最大公約数は\", b[i])\n",
        "\n",
        "print()\n",
        "print(\"一次不定方程式を解く\")\n",
        "\n",
        "i -= 1\n",
        "kx.append(1)\n",
        "ky.append(-q[i])\n",
        "print(\"(\",i,\")\", \"1 =\",  \"(\",kx[j],\")\",  \"*\", a[i], \"+\", \"(\",ky[j],\")\", \"*\", b[i])\n",
        "\n",
        "# 0行目まで繰り返す\n",
        "while i != 0:\n",
        "  i -= 1 # 一行下へ\n",
        "  kx.append(ky[j])\n",
        "  ky.append(kx[j] + (q[i]) * (-ky[j]))\n",
        "  j += 1 # リストの位置を一つ更新\n",
        "  print(\"(\",i,\")\", \"  =\",  \"(\",kx[j],\")\",  \"*\", a[i], \"+\", \"(\",ky[j],\")\", \"*\", b[i])\n",
        "\n",
        "# 結果を出力\n",
        "print()\n",
        "print(a[i], \"x ≡ 1\", \"(mod\", b[i] , \")\", \"の解は\")\n",
        "print(\"x ≡\", kx[j], \"(y ≡\", ky[j], \")\", \"(mod\", b[i] , \")\")\n",
        "print()\n",
        "print(\"検算\", a[i], \"*\", kx[j], \"%\", b[i], \"=\", (a[i] * kx[j]) % b[i])"
      ]
    }
  ]
}