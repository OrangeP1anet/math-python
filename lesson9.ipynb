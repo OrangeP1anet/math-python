{
  "nbformat": 4,
  "nbformat_minor": 0,
  "metadata": {
    "colab": {
      "name": "lesson_9.ipynb",
      "provenance": [],
      "collapsed_sections": [],
      "authorship_tag": "ABX9TyNHS7fIzHHhyEsUWhqkA/Jj",
      "include_colab_link": true
    },
    "kernelspec": {
      "name": "python3",
      "display_name": "Python 3"
    },
    "language_info": {
      "name": "python"
    }
  },
  "cells": [
    {
      "cell_type": "markdown",
      "metadata": {
        "id": "view-in-github",
        "colab_type": "text"
      },
      "source": [
        "<a href=\"https://colab.research.google.com/github/OrangeP1anet/math-python/blob/main/lesson_9.ipynb\" target=\"_parent\"><img src=\"https://colab.research.google.com/assets/colab-badge.svg\" alt=\"Open In Colab\"/></a>"
      ]
    },
    {
      "cell_type": "markdown",
      "source": [
        "## 公開鍵暗号（RSA暗号）"
      ],
      "metadata": {
        "id": "aFeq4EMMq_Qn"
      }
    },
    {
      "cell_type": "code",
      "execution_count": 2,
      "metadata": {
        "colab": {
          "base_uri": "https://localhost:8080/"
        },
        "id": "SmdfMB8ef9EZ",
        "outputId": "6806c346-a37f-48d5-bd60-20797db3f354"
      },
      "outputs": [
        {
          "output_type": "stream",
          "name": "stdout",
          "text": [
            "Enter n: 493\n",
            "Enter e: 43\n",
            "Enter Plaintext: ω・ω\n",
            "Enter Template: ＊(〇)ω・\n",
            "ω・ωを暗号化すると(・〇〇\n"
          ]
        }
      ],
      "source": [
        "import numpy as np\n",
        "\n",
        "# n = 89711\n",
        "n = int(input(\"Enter n: \"))\n",
        "# e = 3251\n",
        "e = int(input(\"Enter e: \"))\n",
        "# plaintext = \"DOG\"\n",
        "plaintext = str(input(\"Enter Plaintext: \"))\n",
        "# template = \"ABCDEFGHIJKLMNOPQRSTUVWXYZ\"\n",
        "template = str(input(\"Enter Template: \"))\n",
        "n_shin = len(template) # len関数で文字数NをN進数とする\n",
        "\n",
        "result = 0 # 初期化\n",
        "# 平文を１つの数字にする(N進数10進数変換)\n",
        "for i in range(len(plaintext)):\n",
        "    for j in range(len(template)):\n",
        "        if plaintext[i] == template[j]:\n",
        "            result += j * (len(template) ** (len(plaintext) - i - 1))\n",
        "\n",
        "# 平文を数字にしたものをPとする\n",
        "P = result\n",
        "\n",
        "# PをCとして暗号化する\n",
        "C = (P**e) % n\n",
        "\n",
        "# Cを10進数からN進数に変換\n",
        "C = np.base_repr(C, n_shin)\n",
        "\n",
        "crypttext = \"\" # 暗号文の文字列の初期化\n",
        "# Cを文字列にする\n",
        "for i in range(len(C)):\n",
        "    j = 0\n",
        "    for j in range(len(template)):\n",
        "        if int(C[i]) == int(j):\n",
        "            crypttext += template[j]\n",
        "\n",
        "print(f\"{plaintext}を暗号化すると{crypttext}\")\n"
      ]
    },
    {
      "cell_type": "code",
      "source": [
        ""
      ],
      "metadata": {
        "id": "apuIiv_06fmg"
      },
      "execution_count": null,
      "outputs": []
    }
  ]
}
