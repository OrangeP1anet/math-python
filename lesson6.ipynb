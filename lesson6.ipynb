{
  "nbformat": 4,
  "nbformat_minor": 0,
  "metadata": {
    "colab": {
      "name": "lesson6.ipynb",
      "provenance": [],
      "collapsed_sections": [],
      "include_colab_link": true
    },
    "kernelspec": {
      "name": "python3",
      "display_name": "Python 3"
    },
    "language_info": {
      "name": "python"
    }
  },
  "cells": [
    {
      "cell_type": "markdown",
      "metadata": {
        "id": "view-in-github",
        "colab_type": "text"
      },
      "source": [
        "<a href=\"https://colab.research.google.com/github/OrangeP1anet/math-python/blob/main/lesson6.ipynb\" target=\"_parent\"><img src=\"https://colab.research.google.com/assets/colab-badge.svg\" alt=\"Open In Colab\"/></a>"
      ]
    },
    {
      "cell_type": "markdown",
      "source": [
        "## 連立方程式を解くプログラム\n",
        "\n",
        "---\n",
        "\n",
        "行列を扱うため [NumPy](https://note.nkmk.me/python-numpy-matrix/) を使用する。   \n",
        "入力は\n",
        "\n",
        "> | a11 a12 | * |x|　≡　|a|　(modX)  \n",
        "> | a21 a22 |　|y|　　　|b|\n",
        "\n",
        " とし、この時のx,yを求める。"
      ],
      "metadata": {
        "id": "HVwTAVQaP3wM"
      }
    },
    {
      "cell_type": "markdown",
      "source": [
        "## Installation\n",
        "\n",
        "---\n",
        "\n",
        "\n",
        "```\n",
        "import numpy as np\n",
        "import sympy as sp\n",
        "```"
      ],
      "metadata": {
        "id": "ZsGTJRiSQH6Q"
      }
    },
    {
      "cell_type": "code",
      "source": [
        "import sympy as sp\n",
        "import numpy as np\n",
        "\n",
        "# numpy配列を宣言、初期化\n",
        "arr = np.array([[1, 2], [3, 4]])\n",
        "arr_ab = np.array([[1], [2]])\n",
        "\n",
        "# 入力\n",
        "arr[0][0] = int(input(\"Enter a11: \"))\n",
        "arr[0][1] = int(input(\"Enter a12: \"))\n",
        "arr[1][0] = int(input(\"Enter a21: \"))\n",
        "arr[1][1] = int(input(\"Enter a22: \"))\n",
        "arr_ab[0][0] = int(input(\"Enter a: \"))\n",
        "arr_ab[1][0] = int(input(\"Enter b: \"))\n",
        "mod = (int(input(\"Enter mod: \")))\n",
        "\n",
        "# インバース|A|を求める\n",
        "a = (arr[0][0] * arr[1][1]) - (arr[0][1] * arr[1][0]) % mod\n",
        "kx = sp.gcdex(a, mod)[0]\n",
        "\n",
        "# Nを法とした逆数\n",
        "arr_inv = np.array([[arr[1][1], -arr[0][1]], [-arr[1][0], arr[0][0]]])\n",
        "\n",
        "# 逆行列\n",
        "ans = ((kx * arr_inv) % mod) % mod\n",
        "\n",
        "# 行列の積はnp.dotを使用し、二つ以上のNumpy配列を引数に取る\n",
        "ans = np.dot(ans, arr_ab)\n",
        "\n",
        "# 最小正剰余として結果を出力\n",
        "print(f\"(x, y) (mod{mod}) は\")\n",
        "print(ans % mod)"
      ],
      "metadata": {
        "colab": {
          "base_uri": "https://localhost:8080/"
        },
        "id": "NYQX7U6m7-sF",
        "outputId": "b92269c0-855a-4dc6-de97-4f4af9ca3949"
      },
      "execution_count": 7,
      "outputs": [
        {
          "output_type": "stream",
          "name": "stdout",
          "text": [
            "Enter a11: 2\n",
            "Enter a12: 3\n",
            "Enter a21: 7\n",
            "Enter a22: 8\n",
            "Enter a: 1\n",
            "Enter b: 2\n",
            "Enter mod: 26\n",
            "(x, y) (mod26) は\n",
            "[[10]\n",
            " [11]]\n"
          ]
        }
      ]
    },
    {
      "cell_type": "markdown",
      "source": [
        "## numpyだけバージョン"
      ],
      "metadata": {
        "id": "VH3B-Acz-kXP"
      }
    },
    {
      "cell_type": "code",
      "source": [
        "import numpy as np\n",
        "\n",
        "a = [] # 割られる数\n",
        "b = [] # 割る数\n",
        "q = [] # 商\n",
        "r = [] # 余り\n",
        "kx = [] # xの係数\n",
        "ky = [] # yの係数\n",
        "i = 0 # リストの先頭に位置する\n",
        "j = 0 # リストの先頭に位置する\n",
        "\n",
        "# numpy配列を二つ宣言、初期化\n",
        "# 一方は2*2の行列、もう一方は1*2の行列\n",
        "arr = np.array([[0, 1], [2, 3]])\n",
        "arr_ab = np.array([[1], [2]])\n",
        "\n",
        "# それぞれの値を入力\n",
        "arr[0][0] = int(input(\"a11 = \"))\n",
        "arr[0][1] = int(input(\"a12 = \"))\n",
        "arr[1][0] = int(input(\"a21 = \"))\n",
        "arr[1][1] = int(input(\"a22 = \"))\n",
        "arr_ab[0][0] = int(input(\"a = \"))\n",
        "arr_ab[1][0] = int(input(\"b = \"))\n",
        "mod = (int(input(\"mod = \")))\n",
        "\n",
        "# インバース|A|を求める\n",
        "a.append((arr[0][0] * arr[1][1]) - (arr[0][1] * arr[1][0])%mod)\n",
        "b.append(mod)\n",
        "q.append(a[i] // b[i]) # 商をリストの先頭に追加\n",
        "r.append(a[i] % b[i])  # 余りをリストの先頭に追加\n",
        "\n",
        "while r[i] != 0:\n",
        "  a.append(b[i]) # 割られる数を割る数にする\n",
        "  b.append(r[i]) # 割る数をあまりにする\n",
        "  i += 1         # リストの位置を一つ更新\n",
        "  q.append(a[i] // b[i])\n",
        "  r.append(a[i] % b[i])\n",
        "\n",
        "i -= 1\n",
        "kx.append(1)\n",
        "ky.append(-q[i])\n",
        "\n",
        "while i != 0:\n",
        "  i -= 1 # 一行下へ\n",
        "  kx.append(ky[j])\n",
        "  ky.append(kx[j] + (q[i])*(-ky[j]))\n",
        "  j += 1 # リストの位置を一つ更新\n",
        "\n",
        "# 求めたインバース|A|をaに代入\n",
        "a = kx[j]\n",
        "\n",
        "# Nを法とした逆数\n",
        "arr_inv = np.array([[arr[1][1], -arr[0][1]], [-arr[1][0], arr[0][0]]])\n",
        "temp = arr_inv * a #逆行列\n",
        "\n",
        "# 最小正剰余の計算\n",
        "temp = temp % mod\n",
        "\n",
        "# 結果の出力\n",
        "print()\n",
        "print(\"行列\")\n",
        "print(arr)\n",
        "print()\n",
        "print(\"逆行列\")\n",
        "print(temp)\n",
        "print()\n",
        "\n",
        "# 行列の積はnp.dotを使用し、二つ以上のNumpy配列を引数に取る\n",
        "ans = np.dot(temp, arr_ab)\n",
        "\n",
        "# 最小正剰余の計算\n",
        "ans = ans % mod\n",
        "\n",
        "# 結果の出力\n",
        "print(f\"(x, y) (mod{mod}) は\")\n",
        "print(ans)"
      ],
      "metadata": {
        "colab": {
          "base_uri": "https://localhost:8080/"
        },
        "id": "Ta2HbloqCuMf",
        "outputId": "c560606f-a972-412f-b8a7-cbba377d1381"
      },
      "execution_count": null,
      "outputs": [
        {
          "output_type": "stream",
          "name": "stdout",
          "text": [
            "a11 = 2\n",
            "a12 = 3\n",
            "a21 = 7\n",
            "a22 = 8\n",
            "a = 1\n",
            "b = 2\n",
            "mod = 26\n",
            "5\n",
            "\n",
            "行列\n",
            "[[2 3]\n",
            " [7 8]]\n",
            "\n",
            "逆行列\n",
            "[[14 11]\n",
            " [17 10]]\n",
            "\n",
            "26 を法とした\n",
            "(x, y) (mod26) は\n",
            "[[10]\n",
            " [11]]\n"
          ]
        }
      ]
    },
    {
      "cell_type": "markdown",
      "source": [
        "### 下記は修正前"
      ],
      "metadata": {
        "id": "q0CTK_jKb_bC"
      }
    },
    {
      "cell_type": "code",
      "source": [
        "#修正前\n",
        "import numpy as np\n",
        "\n",
        "#numpy配列を宣言、初期化\n",
        "arr = np.array([[0, 1], [2, 3]])\n",
        "arr_ab = np.array([[1], [2]])\n",
        "\n",
        "#値を入力\n",
        "arr[0][0] = int(input(\"a11 = \"))\n",
        "arr[0][1] = int(input(\"a12 = \"))\n",
        "arr[1][0] = int(input(\"a21 = \"))\n",
        "arr[1][1] = int(input(\"a22 = \"))\n",
        "arr_ab[0][0] = int(input(\"a = \"))\n",
        "arr_ab[1][0] = int(input(\"b = \"))\n",
        "mod = (int(input(\"mod = \")))\n",
        "\n",
        "a = (arr[0][0] * arr[1][1]) - (arr[0][1] * arr[1][0])\n",
        "\n",
        "#Nを法とした逆数を求める\n",
        "arr_inv = np.array([[arr[1][1], -arr[0][1]], [-arr[1][0], arr[0][0]]])\n",
        "ans = arr_inv * abs(a)\n",
        "\n",
        "#最小正剰余の計算\n",
        "while ans[0][0] > mod or ans[0][1] < 0 or ans[1][0] < 0 or ans[1][1] > mod:\n",
        "  if ans[0][0] > mod:\n",
        "    ans[0][0] -= mod\n",
        "\n",
        "  if ans[0][1] < 0:\n",
        "    ans[0][1] += mod\n",
        "\n",
        "  if ans[1][0] < 0:\n",
        "    ans[1][0] += mod\n",
        "\n",
        "  if ans[1][1] > mod:\n",
        "    ans[1][1] -= mod\n",
        "\n",
        "#結果の出力\n",
        "print()\n",
        "print(arr)\n",
        "print()\n",
        "print(\"逆行列\")\n",
        "print(ans)\n",
        "print()\n",
        "\n",
        "#配列の積\n",
        "ans1 = np.dot(ans, arr_ab)\n",
        "print(ans1)\n",
        "print()\n",
        "\n",
        "#最小正剰余の計算\n",
        "while ans1[0][0] > mod or ans1[0][0] < 0 or ans1[1][0] < 0 or ans1[1][0] > mod:\n",
        "  if ans1[0][0] > mod:\n",
        "    ans1[0][0] -= mod\n",
        "\n",
        "  if ans1[0][0] < 0:\n",
        "    ans1[0][0] += mod\n",
        "\n",
        "  if ans1[1][0] < 0:\n",
        "    ans1[1][0] += mod\n",
        "\n",
        "  if ans1[1][0] > mod:\n",
        "    ans1[1][0] -= mod\n",
        "\n",
        "#結果の出力\n",
        "print(mod,\"を法とした\")\n",
        "print(arr)\n",
        "print(arr_ab)\n",
        "print(\"x,y\", \"(mod\", mod, \")\", \"は\")\n",
        "print(ans1)"
      ],
      "metadata": {
        "colab": {
          "base_uri": "https://localhost:8080/"
        },
        "id": "Bmd707P3XzC2",
        "outputId": "1edc626a-1e99-4f2d-9546-50f40559a5b6"
      },
      "execution_count": null,
      "outputs": [
        {
          "output_type": "stream",
          "name": "stdout",
          "text": [
            "a11 = 5\n",
            "a12 = 2\n",
            "a21 = 4\n",
            "a22 = 3\n",
            "a = 2\n",
            "b = 1\n",
            "mod = 24\n",
            "\n",
            "[[5 2]\n",
            " [4 3]]\n",
            "\n",
            "逆行列\n",
            "[[21 10]\n",
            " [20 11]]\n",
            "\n",
            "[[52]\n",
            " [51]]\n",
            "\n",
            "24 を法とした\n",
            "[[5 2]\n",
            " [4 3]]\n",
            "[[2]\n",
            " [1]]\n",
            "x,y (mod 24 ) は\n",
            "[[4]\n",
            " [3]]\n"
          ]
        }
      ]
    }
  ]
}