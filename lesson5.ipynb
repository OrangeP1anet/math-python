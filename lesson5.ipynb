{
  "nbformat": 4,
  "nbformat_minor": 0,
  "metadata": {
    "colab": {
      "name": "lesson5.ipynb",
      "provenance": [],
      "collapsed_sections": [],
      "authorship_tag": "ABX9TyPfK82P8vBmkaMAAisYiz0l",
      "include_colab_link": true
    },
    "kernelspec": {
      "name": "python3",
      "display_name": "Python 3"
    },
    "language_info": {
      "name": "python"
    }
  },
  "cells": [
    {
      "cell_type": "markdown",
      "metadata": {
        "id": "view-in-github",
        "colab_type": "text"
      },
      "source": [
        "<a href=\"https://colab.research.google.com/github/OrangeP1anet/math-python/blob/main/lesson5.ipynb\" target=\"_parent\"><img src=\"https://colab.research.google.com/assets/colab-badge.svg\" alt=\"Open In Colab\"/></a>"
      ]
    },
    {
      "cell_type": "markdown",
      "source": [
        "## 逆行列を解くプログラム\n",
        "\n",
        "---\n",
        "\n",
        "\n",
        "今回は行列を扱うためNumpyを使うこととする。  \n",
        "行列への入力は\n",
        "\n",
        "> a11 a12  \n",
        "> a21 a22\n",
        "\n",
        " とする。"
      ],
      "metadata": {
        "id": "pxou5FcD_SPy"
      }
    },
    {
      "cell_type": "markdown",
      "source": [
        "## Installation\n",
        "\n",
        "---\n",
        "\n",
        "\n",
        "```\n",
        "import numpy as np\n",
        "```"
      ],
      "metadata": {
        "id": "6GpfCkUfAv7Q"
      }
    },
    {
      "cell_type": "code",
      "source": [
        "import numpy as np\n",
        "\n",
        "#numpy配列を宣言、初期化\n",
        "arr = np.array([[0, 1], [2, 3]])\n",
        "\n",
        "#値を入力\n",
        "arr[0][0] = int(input(\"a11=\"))\n",
        "arr[0][1] = int(input(\"a12=\"))\n",
        "arr[1][0] = int(input(\"a21=\"))\n",
        "arr[1][1] = int(input(\"a22=\"))\n",
        "b = (int(input(\"mod=\")))\n",
        "\n",
        "#\n",
        "a = (arr[0][0] * arr[1][1]) - (arr[0][1] * arr[1][0])\n",
        "\n",
        "#Nを法とした逆数を求める\n",
        "arr_inv = np.array([[arr[1][1], -arr[0][1]], [-arr[1][0], arr[0][0]]])\n",
        "ans = arr_inv * abs(a)\n",
        "\n",
        "print()\n",
        "print(arr)\n",
        "print()\n",
        "print(ans)\n",
        "print()\n",
        "\n",
        "#最小正剰余の計算\n",
        "while ans[0][0] > b or ans[0][1] < 0 or ans[1][0] < 0 or ans[1][1] > b:\n",
        "  if ans[0][0] > b:\n",
        "    ans[0][0] -= b\n",
        "\n",
        "  if ans[0][1] < 0:\n",
        "    ans[0][1] += b\n",
        "\n",
        "  if ans[1][0] < 0:\n",
        "    ans[1][0] += b\n",
        "\n",
        "  if ans[1][1] > b:\n",
        "    ans[1][1] -= b\n",
        "\n",
        "a = (arr[0][0] * arr[1][1]) - (arr[0][1] * arr[1][0])\n",
        "\n",
        "print(b,\"を法として\")\n",
        "print(arr)\n",
        "print(\"の逆行列\", \"(mod\", b, \")\", \"は\")\n",
        "print(ans)"
      ],
      "metadata": {
        "colab": {
          "base_uri": "https://localhost:8080/"
        },
        "id": "bFAr3I3r_R_v",
        "outputId": "90dfecd9-f8a5-48df-f8a7-51bcdd1b9dae"
      },
      "execution_count": null,
      "outputs": [
        {
          "output_type": "stream",
          "name": "stdout",
          "text": [
            "a11=2\n",
            "a12=3\n",
            "a21=7\n",
            "a22=8\n",
            "mod=26\n",
            "\n",
            "[[2 3]\n",
            " [7 8]]\n",
            "\n",
            "[[ 40 -15]\n",
            " [-35  10]]\n",
            "\n",
            "26 を法として\n",
            "[[2 3]\n",
            " [7 8]]\n",
            "の逆行列 (mod 26 ) は\n",
            "[[14 11]\n",
            " [17 10]]\n"
          ]
        }
      ]
    },
    {
      "cell_type": "markdown",
      "source": [
        "## 逆行列を解くプログラム(Numpy無しバージョン)\n",
        "\n",
        "未完成\n",
        "\n",
        "---\n",
        "\n",
        "\n",
        "行列への入力は \n",
        "\n",
        "a11 a12\n",
        "\n",
        "a21 a22 とする。"
      ],
      "metadata": {
        "id": "pL6rTwPQ7YfQ"
      }
    },
    {
      "cell_type": "code",
      "execution_count": null,
      "metadata": {
        "id": "o_avw7Dn7VZ2"
      },
      "outputs": [],
      "source": [
        ""
      ]
    }
  ]
}