{
  "nbformat": 4,
  "nbformat_minor": 0,
  "metadata": {
    "colab": {
      "name": "lesson5.ipynb",
      "provenance": [],
      "collapsed_sections": [],
      "authorship_tag": "ABX9TyM80sDx0uQ7TeX97rMvX6fs",
      "include_colab_link": true
    },
    "kernelspec": {
      "name": "python3",
      "display_name": "Python 3"
    },
    "language_info": {
      "name": "python"
    }
  },
  "cells": [
    {
      "cell_type": "markdown",
      "metadata": {
        "id": "view-in-github",
        "colab_type": "text"
      },
      "source": [
        "<a href=\"https://colab.research.google.com/github/OrangeP1anet/math-python/blob/main/lesson5.ipynb\" target=\"_parent\"><img src=\"https://colab.research.google.com/assets/colab-badge.svg\" alt=\"Open In Colab\"/></a>"
      ]
    },
    {
      "cell_type": "markdown",
      "source": [
        "## 逆行列を解くプログラム\n",
        "\n",
        "---\n",
        "\n",
        "\n",
        "今回は行列を扱うためNumpyを使うこととする。  \n",
        "行列への入力は\n",
        "\n",
        "> a11 a12  \n",
        "> a21 a22\n",
        "\n",
        " とする。"
      ],
      "metadata": {
        "id": "pxou5FcD_SPy"
      }
    },
    {
      "cell_type": "markdown",
      "source": [
        "## Installation\n",
        "\n",
        "---\n",
        "\n",
        "\n",
        "```\n",
        "import numpy as np\n",
        "import sympy as sp\n",
        "```"
      ],
      "metadata": {
        "id": "6GpfCkUfAv7Q"
      }
    },
    {
      "cell_type": "code",
      "source": [
        "import sympy as sp\n",
        "import numpy as np\n",
        "\n",
        "# numpy配列を宣言、初期化\n",
        "arr = np.array([[1, 2], [3, 4]])\n",
        "\n",
        "# 入力\n",
        "arr[0][0] = int(input(\"Enter a11: \"))\n",
        "arr[0][1] = int(input(\"Enter a12: \"))\n",
        "arr[1][0] = int(input(\"Enter a21:\"))\n",
        "arr[1][1] = int(input(\"Enter a22:\"))\n",
        "mod = (int(input(\"Enter mod: \")))\n",
        "\n",
        "# インバース|A|を求める\n",
        "a = (arr[0][0] * arr[1][1]) - (arr[0][1] * arr[1][0]) % mod\n",
        "kx = sp.gcdex(a, mod)[0]\n",
        "\n",
        "# Nを法とした逆数\n",
        "arr_inv = np.array([[arr[1][1], -arr[0][1]], [-arr[1][0], arr[0][0]]])\n",
        "\n",
        "# 結果の出力\n",
        "print(mod,\"を法として\")\n",
        "print(arr)\n",
        "print(\"の逆行列\", \"(mod\", mod, \")\", \"は\")\n",
        "print(((kx * arr_inv) % mod) % mod)7"
      ],
      "metadata": {
        "id": "bWExMssf6aAh",
        "outputId": "931f876e-1b94-491c-90ab-24276fa4cda1",
        "colab": {
          "base_uri": "https://localhost:8080/"
        }
      },
      "execution_count": 1,
      "outputs": [
        {
          "output_type": "stream",
          "name": "stdout",
          "text": [
            "Enter a11: 2\n",
            "Enter a12: 3\n",
            "Enter a21:7\n",
            "Enter a22:8\n",
            "Enter mod: 26\n",
            "26 を法として\n",
            "[[2 3]\n",
            " [7 8]]\n",
            "の逆行列 (mod 26 ) は\n",
            "[[14 11]\n",
            " [17 10]]\n"
          ]
        }
      ]
    },
    {
      "cell_type": "markdown",
      "source": [
        "## numpyだけバージョン"
      ],
      "metadata": {
        "id": "HcwpytP7-BMo"
      }
    },
    {
      "cell_type": "code",
      "source": [
        "import numpy as np\n",
        "\n",
        "a = [] # 割られる数\n",
        "b = [] # 割る数\n",
        "q = [] # 商\n",
        "r = [] # 余り\n",
        "kx = [] # xの係数\n",
        "ky = [] # yの係数\n",
        "i = 0 # リストの先頭に位置する\n",
        "j = 0 # リストの先頭に位置する\n",
        "\n",
        "#numpy配列を宣言、初期化\n",
        "arr = np.array([[0, 1], [2, 3]])\n",
        "\n",
        "#値を入力\n",
        "arr[0][0] = int(input(\"a11=\"))\n",
        "arr[0][1] = int(input(\"a12=\"))\n",
        "arr[1][0] = int(input(\"a21=\"))\n",
        "arr[1][1] = int(input(\"a22=\"))\n",
        "mod = (int(input(\"mod = \")))\n",
        "\n",
        "\n",
        "# インバース|A|を求める\n",
        "a.append((arr[0][0] * arr[1][1]) - (arr[0][1] * arr[1][0])%mod)\n",
        "b.append(mod)\n",
        "q.append(a[i] // b[i]) # 商をリストの先頭に追加\n",
        "r.append(a[i] % b[i])  # 余りをリストの先頭に追加\n",
        "\n",
        "while r[i] != 0:\n",
        "  a.append(b[i]) # 割られる数を割る数にする\n",
        "  b.append(r[i]) # 割る数をあまりにする\n",
        "  i += 1         # リストの位置を一つ更新\n",
        "  q.append(a[i] // b[i])\n",
        "  r.append(a[i] % b[i])\n",
        "\n",
        "i -= 1\n",
        "kx.append(1)\n",
        "ky.append(-q[i])\n",
        "\n",
        "while i != 0:\n",
        "  i -= 1 # 一行下へ\n",
        "  kx.append(ky[j])\n",
        "  ky.append(kx[j] + (q[i])*(-ky[j]))\n",
        "  j += 1 # リストの位置を一つ更新\n",
        "\n",
        "# 求めたインバース|A|をaに代入\n",
        "a = kx[j]\n",
        "\n",
        "# Nを法とした逆数\n",
        "arr_inv = np.array([[arr[1][1], -arr[0][1]], [-arr[1][0], arr[0][0]]])\n",
        "ans = arr_inv * a #逆行列\n",
        "\n",
        "# 最小正剰余の計算\n",
        "ans = ans % mod\n",
        "\n",
        "ans = arr_inv * a\n",
        "print()\n",
        "print(arr)\n",
        "print()\n",
        "print(ans)\n",
        "print()\n",
        "\n",
        "# 最小正剰余の計算\n",
        "ans = ans % mod\n",
        "\n",
        "print(mod,\"を法として\")\n",
        "print(arr)\n",
        "print(\"の逆行列\", \"(mod\", mod, \")\", \"は\")\n",
        "print(ans)"
      ],
      "metadata": {
        "colab": {
          "base_uri": "https://localhost:8080/"
        },
        "id": "bFAr3I3r_R_v",
        "outputId": "94a29053-b350-4437-cfc9-dfd3f51d0217"
      },
      "execution_count": null,
      "outputs": [
        {
          "output_type": "stream",
          "name": "stdout",
          "text": [
            "a11=2\n",
            "a12=3\n",
            "a21=7\n",
            "a22=8\n",
            "mod = 26\n",
            "\n",
            "[[2 3]\n",
            " [7 8]]\n",
            "\n",
            "[[ 40 -15]\n",
            " [-35  10]]\n",
            "\n",
            "26 を法として\n",
            "[[2 3]\n",
            " [7 8]]\n",
            "の逆行列 (mod 26 ) は\n",
            "[[14 11]\n",
            " [17 10]]\n"
          ]
        }
      ]
    },
    {
      "cell_type": "code",
      "execution_count": null,
      "metadata": {
        "id": "o_avw7Dn7VZ2"
      },
      "outputs": [],
      "source": [
        ""
      ]
    }
  ]
}